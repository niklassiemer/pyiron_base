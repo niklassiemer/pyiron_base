{
 "cells": [
  {
   "cell_type": "code",
   "execution_count": 1,
   "metadata": {},
   "outputs": [],
   "source": [
    "from pyiron_base import PythonTemplateJob"
   ]
  },
  {
   "cell_type": "code",
   "execution_count": 2,
   "metadata": {},
   "outputs": [],
   "source": [
    "def fib(n):\n",
    "    '''\n",
    "    Return the n-th Fibbonacci number: fib(0)=1  fib(1)=1 fib(2)=2 fib(3)=3 fib(4)=5 ...\n",
    "    '''\n",
    "    fib=1\n",
    "    fib2=1\n",
    "    i=1\n",
    "    while i < n:\n",
    "        fib_t=fib\n",
    "        fib+=fib2\n",
    "        fib2=fib_t\n",
    "        i+=1\n",
    "    return fib"
   ]
  },
  {
   "cell_type": "code",
   "execution_count": 3,
   "metadata": {},
   "outputs": [],
   "source": [
    "class ToyJob(PythonTemplateJob):\n",
    "    def __init__(self, project, job_name):\n",
    "        super(ToyJob, self).__init__(project, job_name) \n",
    "        self.input['input_energy'] = 100\n",
    "    \n",
    "    # This function is executed \n",
    "    def run_static(self):\n",
    "        self.output[\"energy_tot\"]=fib(self.input[\"input_energy\"])\n",
    "        self.save_output()"
   ]
  },
  {
   "cell_type": "code",
   "execution_count": 4,
   "metadata": {},
   "outputs": [
    {
     "name": "stdout",
     "output_type": "stream",
     "text": [
      "This group does not exist in the HDF5 file toy\n",
      "      Parameter  Value Comment\n",
      "0  input_energy    100        \n",
      "The job toy was saved and received the ID: 4\n"
     ]
    },
    {
     "data": {
      "text/plain": [
       "573147844013817084101"
      ]
     },
     "execution_count": 4,
     "metadata": {},
     "output_type": "execute_result"
    }
   ],
   "source": [
    "from pyiron_base import Project\n",
    "pr = Project('test')\n",
    "pr.remove_jobs_silently(recursive=True)\n",
    "job = pr.create_job(job_type=ToyJob, job_name=\"toy\")\n",
    "print(job.input)\n",
    "job.run()\n",
    "#job['output/generic/energy_tot']\n",
    "job[\"output/data\"][\"energy_tot\"]"
   ]
  },
  {
   "cell_type": "code",
   "execution_count": null,
   "metadata": {},
   "outputs": [],
   "source": []
  }
 ],
 "metadata": {
  "kernelspec": {
   "display_name": "Python 3",
   "language": "python",
   "name": "python3"
  },
  "language_info": {
   "codemirror_mode": {
    "name": "ipython",
    "version": 3
   },
   "file_extension": ".py",
   "mimetype": "text/x-python",
   "name": "python",
   "nbconvert_exporter": "python",
   "pygments_lexer": "ipython3",
   "version": "3.8.5"
  }
 },
 "nbformat": 4,
 "nbformat_minor": 4
}
